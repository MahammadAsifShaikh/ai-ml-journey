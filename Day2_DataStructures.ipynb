{
  "nbformat": 4,
  "nbformat_minor": 0,
  "metadata": {
    "colab": {
      "provenance": [],
      "authorship_tag": "ABX9TyOoFmhWqHkqaw9OmeNOb0wm",
      "include_colab_link": true
    },
    "kernelspec": {
      "name": "python3",
      "display_name": "Python 3"
    },
    "language_info": {
      "name": "python"
    }
  },
  "cells": [
    {
      "cell_type": "markdown",
      "metadata": {
        "id": "view-in-github",
        "colab_type": "text"
      },
      "source": [
        "<a href=\"https://colab.research.google.com/github/MahammadAsifShaikh/ai-ml-journey/blob/main/Day2_DataStructures.ipynb\" target=\"_parent\"><img src=\"https://colab.research.google.com/assets/colab-badge.svg\" alt=\"Open In Colab\"/></a>"
      ]
    },
    {
      "cell_type": "code",
      "execution_count": 1,
      "metadata": {
        "colab": {
          "base_uri": "https://localhost:8080/"
        },
        "id": "pcUsKKVvUYcs",
        "outputId": "8d473ca5-a490-4a30-cb5d-a221177b4b61"
      },
      "outputs": [
        {
          "output_type": "stream",
          "name": "stdout",
          "text": [
            "Sum of squares: 55\n",
            "['ASIF', 'SHAIKH']\n",
            "Unique skills: {'python', 'ml', 'git'}\n"
          ]
        }
      ],
      "source": [
        "nums = [1, 2, 3, 4, 5]\n",
        "print(\"Sum of squares:\", sum([x**2 for x in nums]))\n",
        "\n",
        "names = [\"asif\", \"shaikh\", \"ai\", \"ml\"]\n",
        "capitalized = [name.upper() for name in names if len(name) > 2]\n",
        "print(capitalized)\n",
        "\n",
        "unique_skills = {\"python\", \"python\", \"git\", \"ml\", \"ml\"}\n",
        "print(\"Unique skills:\", unique_skills)"
      ]
    }
  ]
}